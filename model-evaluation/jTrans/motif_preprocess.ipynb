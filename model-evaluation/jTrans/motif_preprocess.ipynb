{
 "cells": [
  {
   "cell_type": "markdown",
   "metadata": {},
   "source": [
    "# MOTIF data sorting code"
   ]
  },
  {
   "cell_type": "code",
   "execution_count": null,
   "metadata": {},
   "outputs": [],
   "source": [
    "DATASET_PATH = \"dataset\"\n",
    "MOTIF_JSON = \"motif_dataset.jsonl\""
   ]
  },
  {
   "cell_type": "code",
   "execution_count": 1,
   "metadata": {},
   "outputs": [],
   "source": [
    "import pandas as pd    \n",
    "\n",
    "# Convert jsonobj to list of objs\n",
    "jsonObj = pd.read_json(path_or_buf=MOTIF_JSON, lines=True)\n",
    "jsonObjList = jsonObj.to_dict(orient='records')"
   ]
  },
  {
   "cell_type": "code",
   "execution_count": 3,
   "metadata": {},
   "outputs": [],
   "source": [
    "import shutil\n",
    "import os\n",
    "from collections import defaultdict\n",
    "os.system(f\"rm -rf {DATASET_PATH}\")\n",
    "os.makedirs(DATASET_PATH)\n",
    "\n",
    "label2count = defaultdict(lambda : 0)\n",
    "\n",
    "for obj in jsonObjList:\n",
    "    # datautils/dataset/libcap-git-setcap-O2-8dc43f20ea80b7703f6973a1ea86e8b8 original format\n",
    "    shutil.copy(f\"files/MOTIF_{obj['md5']}\", f\"{DATASET_PATH}/{obj['label']}-O{label2count[obj['label']]}-{obj['md5']}\")\n",
    "    label2count[obj['label']]+=1"
   ]
  },
  {
   "cell_type": "markdown",
   "metadata": {},
   "source": [
    "### Output\n",
    "\n",
    "The folder should have files like `0-O10-95f18fe1d393e2c671d9afac9590a5a3`, where\n",
    "\n",
    "*   0 is the label\n",
    "*   O10 is the dummy optimization level, when evaluation please disable the `opt` parameter when creating testing set\n",
    "*   95f18fe1d393e2c671d9afac9590a5a3 is hash of file\n",
    "\n",
    "This folder can be used in jTrans processing pipeline to obtain the pickle files for testing/validation tasks, you might need to also adapt file naming convention from jTrans codes"
   ]
  }
 ],
 "metadata": {
  "kernelspec": {
   "display_name": "jtrans",
   "language": "python",
   "name": "python3"
  },
  "language_info": {
   "codemirror_mode": {
    "name": "ipython",
    "version": 3
   },
   "file_extension": ".py",
   "mimetype": "text/x-python",
   "name": "python",
   "nbconvert_exporter": "python",
   "pygments_lexer": "ipython3",
   "version": "3.9.18"
  }
 },
 "nbformat": 4,
 "nbformat_minor": 2
}
